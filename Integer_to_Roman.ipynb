{
  "nbformat": 4,
  "nbformat_minor": 0,
  "metadata": {
    "colab": {
      "provenance": [],
      "authorship_tag": "ABX9TyM3PYgM+hwxDxe/3k6+drZ0",
      "include_colab_link": true
    },
    "kernelspec": {
      "name": "python3",
      "display_name": "Python 3"
    },
    "language_info": {
      "name": "python"
    }
  },
  "cells": [
    {
      "cell_type": "markdown",
      "metadata": {
        "id": "view-in-github",
        "colab_type": "text"
      },
      "source": [
        "<a href=\"https://colab.research.google.com/github/MAboElFottouh/data-structures-algorithms/blob/main/Integer_to_Roman.ipynb\" target=\"_parent\"><img src=\"https://colab.research.google.com/assets/colab-badge.svg\" alt=\"Open In Colab\"/></a>"
      ]
    },
    {
      "cell_type": "markdown",
      "source": [
        "Roman numerals are represented by seven different symbols: I, V, X, L, C, D and M.\n",
        "\n",
        "Symbol ----- Value\n",
        "\n",
        "I -------------------- 1\n",
        "\n",
        "V -------------------- 5\n",
        "\n",
        "X -------------------- 10\n",
        "\n",
        "L -------------------- 50\n",
        "\n",
        "C -------------------- 100\n",
        "\n",
        "D -------------------- 500\n",
        "\n",
        "M -------------------- 1000"
      ],
      "metadata": {
        "id": "qzhKKuHWiZXp"
      }
    },
    {
      "cell_type": "markdown",
      "source": [
        "For example, 2 is written as II in Roman numeral, just two one's added together. 12 is written as XII, which is simply X + II. The number 27 is written as XXVII, which is XX + V + II.\n",
        "\n",
        "Roman numerals are usually written largest to smallest from left to right. However, the numeral for four is not IIII. Instead, the number four is written as IV. Because the one is before the five we subtract it making four. The same principle applies to the number nine, which is written as IX. There are six instances where subtraction is used:\n",
        "\n",
        "I can be placed before V (5) and X (10) to make 4 and 9. \n",
        "\n",
        "X can be placed before L (50) and C (100) to make 40 and 90. \n",
        "\n",
        "C can be placed before D (500) and M (1000) to make 400 and 900.\n",
        "\n",
        "Given an integer, convert it to a roman numeral."
      ],
      "metadata": {
        "id": "ZqVu39cGijmJ"
      }
    },
    {
      "cell_type": "markdown",
      "source": [
        "Input: num = 3\n",
        "\n",
        "Output: \"III\"\n",
        "\n",
        "Explanation: 3 is represented as 3 ones."
      ],
      "metadata": {
        "id": "iLhjridqlsQX"
      }
    },
    {
      "cell_type": "markdown",
      "source": [
        "Input: num = 58\n",
        "\n",
        "Output: \"LVIII\"\n",
        "\n",
        "Explanation: L = 50, V = 5, III = 3."
      ],
      "metadata": {
        "id": "yejyzIWflu30"
      }
    },
    {
      "cell_type": "markdown",
      "source": [
        "Input: num = 1994\n",
        "\n",
        "Output: \"MCMXCIV\"\n",
        "\n",
        "Explanation: M = 1000, CM = 900, XC = 90 and IV = 4.\n"
      ],
      "metadata": {
        "id": "Ve4tgFIrl0bR"
      }
    },
    {
      "cell_type": "code",
      "source": [
        "def intToRoman(num):\n",
        "  string = []\n",
        "\n",
        "  #number bigger than 1000 convert to M\n",
        "  tamp = int(num / 1000)\n",
        "  for i in range(tamp):\n",
        "    string.append('M')\n",
        "  num = num - (tamp * 1000)\n",
        "  \n",
        "  #number bigger than 100 convert to C as 100 or D as 500\n",
        "  tamp = int(num / 100) \n",
        "  if (tamp == 9): # Special case in roman number 900 or 400\n",
        "    string.append('CM')\n",
        "\n",
        "  elif(tamp == 4 ):\n",
        "    string.append('CD')\n",
        "\n",
        "  elif(tamp > 4): # number bigger than 500 use D as 500 And complete the rest as 100\n",
        "    string.append('D')\n",
        "    for i in range(tamp-5):\n",
        "      string.append('C')\n",
        "\n",
        "  else :\n",
        "      for i in range(tamp):\n",
        "        string.append('C')\n",
        "  num = num - (tamp*100)\n",
        "  \n",
        "  tamp = int(num/10)\n",
        "  if tamp == 9: # Special case in roman number 90 or 40\n",
        "    string.append('XC')\n",
        "\n",
        "  elif tamp == 4 :\n",
        "    string.append('XL')\n",
        "\n",
        "  elif tamp > 4 :# number bigger than 50 use L as 50 And complete the rest as 10\n",
        "    string.append('L')\n",
        "    for i in range(tamp-5):\n",
        "      string.append('X')\n",
        "  else:\n",
        "    for i in range(tamp):\n",
        "      string.append('X')\n",
        "  num = num - (tamp * 10)\n",
        "  print(num)\n",
        "  tamp = num\n",
        "  if tamp == 9: # Special case in roman number 9 or 4\n",
        "    string.append('IX')\n",
        "\n",
        "  elif tamp == 4 :\n",
        "    string.append('IV')\n",
        "\n",
        "  elif tamp > 4 :# number bigger than 5 use V as 500 And complete the rest as 1\n",
        "    string.append('V')\n",
        "    for i in range(tamp-5):\n",
        "      string.append('I')\n",
        "  else:\n",
        "    for i in range(tamp):\n",
        "      string.append('I')\n",
        "  final_output = ''\n",
        "  for i in range(len(string)):\n",
        "    final_output = final_output + string[i]\n",
        "\n",
        "  return final_output\n"
      ],
      "metadata": {
        "id": "RtDvBXxrieIw"
      },
      "execution_count": 79,
      "outputs": []
    },
    {
      "cell_type": "code",
      "source": [
        "num = 58"
      ],
      "metadata": {
        "id": "gmN8Okc-nj-y"
      },
      "execution_count": 82,
      "outputs": []
    },
    {
      "cell_type": "code",
      "source": [
        "intToRoman(num)"
      ],
      "metadata": {
        "colab": {
          "base_uri": "https://localhost:8080/"
        },
        "id": "F06zNus-nl0e",
        "outputId": "7ab2a76e-b3ca-4802-aa0c-c526e720b308"
      },
      "execution_count": 83,
      "outputs": [
        {
          "output_type": "stream",
          "name": "stdout",
          "text": [
            "8\n",
            "LVIII\n"
          ]
        }
      ]
    },
    {
      "cell_type": "code",
      "source": [
        "36451 / 1000"
      ],
      "metadata": {
        "colab": {
          "base_uri": "https://localhost:8080/"
        },
        "id": "DeEmc0GHnqC2",
        "outputId": "36836b01-041e-4e97-fb7f-4b75c24626b0"
      },
      "execution_count": 48,
      "outputs": [
        {
          "output_type": "execute_result",
          "data": {
            "text/plain": [
              "36.451"
            ]
          },
          "metadata": {},
          "execution_count": 48
        }
      ]
    }
  ]
}