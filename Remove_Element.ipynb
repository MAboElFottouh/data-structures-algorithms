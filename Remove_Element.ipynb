{
  "nbformat": 4,
  "nbformat_minor": 0,
  "metadata": {
    "colab": {
      "provenance": [],
      "authorship_tag": "ABX9TyN3kbQ75E5bgZfQRrEy+E2C",
      "include_colab_link": true
    },
    "kernelspec": {
      "name": "python3",
      "display_name": "Python 3"
    },
    "language_info": {
      "name": "python"
    }
  },
  "cells": [
    {
      "cell_type": "markdown",
      "metadata": {
        "id": "view-in-github",
        "colab_type": "text"
      },
      "source": [
        "<a href=\"https://colab.research.google.com/github/MAboElFottouh/data-structures-algorithms/blob/main/Remove_Element.ipynb\" target=\"_parent\"><img src=\"https://colab.research.google.com/assets/colab-badge.svg\" alt=\"Open In Colab\"/></a>"
      ]
    },
    {
      "cell_type": "markdown",
      "source": [
        "Given an integer array nums and an integer val, remove all occurrences of val in nums in-place. The order of the elements may be changed. Then return the number of elements in nums which are not equal to val.\n",
        "\n",
        "Consider the number of elements in nums which are not equal to val be k, to get accepted, you need to do the following things:\n",
        "\n",
        "Change the array nums such that the first k elements of nums contain the elements which are not equal to val. The remaining elements of nums are not important as well as the size of nums.\n",
        "Return k."
      ],
      "metadata": {
        "id": "Bt2xXh3DYX1M"
      }
    },
    {
      "cell_type": "markdown",
      "source": [
        "Input: nums = [3,2,2,3], val = 3\n",
        "\n",
        "Output: 2, nums = [2,2,_,_]\n",
        "\n",
        "Explanation: Your function should return k = 2, with the first two elements of nums being 2.\n",
        "\n",
        "It does not matter what you leave beyond the returned k (hence they are underscores).\n"
      ],
      "metadata": {
        "id": "4jVMJ4HNYlbK"
      }
    },
    {
      "cell_type": "code",
      "source": [
        "def removeElement(nums, val):\n",
        "  for i in range(len(nums),0,-1):\n",
        "    if (nums[i-1] == val ):\n",
        "      nums.pop(i-1)\n",
        "  return len(nums)"
      ],
      "metadata": {
        "id": "83su0fAGYjxf"
      },
      "execution_count": 54,
      "outputs": []
    },
    {
      "cell_type": "code",
      "source": [
        "nums = [3,2,2,3]\n",
        "val = 3"
      ],
      "metadata": {
        "id": "uAyVFA8NZhgB"
      },
      "execution_count": 55,
      "outputs": []
    },
    {
      "cell_type": "code",
      "source": [
        "removeElement(nums,val)"
      ],
      "metadata": {
        "colab": {
          "base_uri": "https://localhost:8080/"
        },
        "id": "dcINSHerZmVB",
        "outputId": "bd1c7a71-c0da-47fb-e707-0a1ffed01090"
      },
      "execution_count": 56,
      "outputs": [
        {
          "output_type": "execute_result",
          "data": {
            "text/plain": [
              "2"
            ]
          },
          "metadata": {},
          "execution_count": 56
        }
      ]
    },
    {
      "cell_type": "code",
      "source": [],
      "metadata": {
        "id": "1GXOwG1JZtZr"
      },
      "execution_count": 6,
      "outputs": []
    }
  ]
}