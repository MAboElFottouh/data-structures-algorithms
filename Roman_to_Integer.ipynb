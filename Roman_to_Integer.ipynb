{
  "nbformat": 4,
  "nbformat_minor": 0,
  "metadata": {
    "colab": {
      "provenance": [],
      "authorship_tag": "ABX9TyOdELJWpOsEgh80oYkmEyut",
      "include_colab_link": true
    },
    "kernelspec": {
      "name": "python3",
      "display_name": "Python 3"
    },
    "language_info": {
      "name": "python"
    }
  },
  "cells": [
    {
      "cell_type": "markdown",
      "metadata": {
        "id": "view-in-github",
        "colab_type": "text"
      },
      "source": [
        "<a href=\"https://colab.research.google.com/github/MAboElFottouh/data-structures-algorithms/blob/main/Roman_to_Integer.ipynb\" target=\"_parent\"><img src=\"https://colab.research.google.com/assets/colab-badge.svg\" alt=\"Open In Colab\"/></a>"
      ]
    },
    {
      "cell_type": "markdown",
      "source": [
        "For example, 2 is written as II in Roman numeral, just two ones added together. 12 is written as XII, which is simply X + II. The number 27 is written as XXVII, which is XX + V + II.\n",
        "\n",
        "Roman numerals are usually written largest to smallest from left to right. However, the numeral for four is not IIII. Instead, the number four is written as IV. Because the one is before the five we subtract it making four. The same principle applies to the number nine, which is written as IX. There are six instances where subtraction is used:\n",
        "\n",
        "I can be placed before V (5) and X (10) to make 4 and 9. \n",
        "X can be placed before L (50) and C (100) to make 40 and 90. \n",
        "C can be placed before D (500) and M (1000) to make 400 and 900.\n",
        "Given a roman numeral, convert it to an integer.\n"
      ],
      "metadata": {
        "id": "CQX_AfX45ewf"
      }
    },
    {
      "cell_type": "markdown",
      "source": [
        "Symbol ----- Value\n",
        "\n",
        "I -------------------- 1\n",
        "\n",
        "V -------------------- 5\n",
        "\n",
        "X -------------------- 10\n",
        "\n",
        "L -------------------- 50\n",
        "\n",
        "C -------------------- 100\n",
        "\n",
        "D -------------------- 500\n",
        "\n",
        "M -------------------- 1000"
      ],
      "metadata": {
        "id": "o0GyM4V25lE8"
      }
    },
    {
      "cell_type": "code",
      "source": [
        "def romanToInt(s):\n",
        "  counter = 0 \n",
        "\n",
        "  letter = [x for x in s] # split string to char \n",
        "  print(letter)\n",
        "  # convert letter to number   \n",
        "  for i in range(len(letter)) :\n",
        "    if letter[i]=='M' :\n",
        "      letter[i] = 1000\n",
        "    elif letter[i] == 'D':\n",
        "      letter[i] = 500\n",
        "    elif letter[i] == 'C':\n",
        "      letter[i] = 100\n",
        "    elif letter[i] == 'L':\n",
        "      letter[i] = 50\n",
        "    elif letter[i] == 'X':\n",
        "      letter[i] = 10\n",
        "    elif letter[i] == 'V':\n",
        "      letter[i] = 5\n",
        "    elif letter[i] == 'I':\n",
        "      letter[i] = 1\n",
        "  print(letter)\n",
        "  flag = 0 # flag to skip number after nagetiv\n",
        "  for i in range(len(letter)) :\n",
        "    if flag == 0 :\n",
        "      if i == len(letter)-1 :\n",
        "        counter = counter + letter[i]\n",
        "      elif letter [i] >= letter[i+1] :\n",
        "        counter = counter + letter[i]\n",
        "      else :\n",
        "        counter = counter + ( letter [i+1 ] - letter[i] )\n",
        "        flag = 1\n",
        "    else : \n",
        "      flag = 0  \n",
        "    \n",
        "      \n",
        "  return counter\n",
        "    \n",
        "\n",
        "    \n",
        "\n"
      ],
      "metadata": {
        "id": "zgnK0f2L5jbf"
      },
      "execution_count": 123,
      "outputs": []
    },
    {
      "cell_type": "code",
      "source": [
        "s1 = \"III\"\n",
        "s2 = \"LVIII\"\n",
        "s3 = \"MCMXCIV\""
      ],
      "metadata": {
        "id": "eltcOJl86bKU"
      },
      "execution_count": 124,
      "outputs": []
    },
    {
      "cell_type": "code",
      "source": [
        "romanToInt(s3)"
      ],
      "metadata": {
        "colab": {
          "base_uri": "https://localhost:8080/"
        },
        "id": "jAFuTz1n6inc",
        "outputId": "dbbcea3b-2833-4705-dbd0-fbd0b985d376"
      },
      "execution_count": 125,
      "outputs": [
        {
          "output_type": "stream",
          "name": "stdout",
          "text": [
            "['M', 'C', 'M', 'X', 'C', 'I', 'V']\n",
            "[1000, 100, 1000, 10, 100, 1, 5]\n"
          ]
        },
        {
          "output_type": "execute_result",
          "data": {
            "text/plain": [
              "1994"
            ]
          },
          "metadata": {},
          "execution_count": 125
        }
      ]
    },
    {
      "cell_type": "code",
      "source": [],
      "metadata": {
        "id": "nKH69TkJ7QzP"
      },
      "execution_count": null,
      "outputs": []
    }
  ]
}