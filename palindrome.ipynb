{
  "nbformat": 4,
  "nbformat_minor": 0,
  "metadata": {
    "colab": {
      "provenance": [],
      "authorship_tag": "ABX9TyMMhtFncjxqAeyN/A6D6iOI",
      "include_colab_link": true
    },
    "kernelspec": {
      "name": "python3",
      "display_name": "Python 3"
    },
    "language_info": {
      "name": "python"
    }
  },
  "cells": [
    {
      "cell_type": "markdown",
      "metadata": {
        "id": "view-in-github",
        "colab_type": "text"
      },
      "source": [
        "<a href=\"https://colab.research.google.com/github/MAboElFottouh/data-structures-algorithms/blob/main/palindrome.ipynb\" target=\"_parent\"><img src=\"https://colab.research.google.com/assets/colab-badge.svg\" alt=\"Open In Colab\"/></a>"
      ]
    },
    {
      "cell_type": "markdown",
      "source": [
        "# Given an integer x, return true if x is a palindrome and false otherwise."
      ],
      "metadata": {
        "id": "jq_-g3hjDWVH"
      }
    },
    {
      "cell_type": "code",
      "source": [
        "x = 121\n",
        "y = 100\n",
        "z = -121"
      ],
      "metadata": {
        "id": "H8jpwZulDh8o"
      },
      "execution_count": 1,
      "outputs": []
    },
    {
      "cell_type": "code",
      "source": [
        "def isPalindrome (x):\n",
        "  temp = str(x)\n",
        "  return temp == temp[::-1]"
      ],
      "metadata": {
        "id": "ez2MutyMDpqo"
      },
      "execution_count": 9,
      "outputs": []
    },
    {
      "cell_type": "code",
      "source": [
        "isPalindrome(x)"
      ],
      "metadata": {
        "colab": {
          "base_uri": "https://localhost:8080/"
        },
        "id": "6L8qreO1D9JE",
        "outputId": "23754d12-1bef-4ee4-e8c1-4561c6820b53"
      },
      "execution_count": 11,
      "outputs": [
        {
          "output_type": "execute_result",
          "data": {
            "text/plain": [
              "True"
            ]
          },
          "metadata": {},
          "execution_count": 11
        }
      ]
    },
    {
      "cell_type": "code",
      "source": [],
      "metadata": {
        "id": "tBcSSaXOD_f2"
      },
      "execution_count": null,
      "outputs": []
    }
  ]
}