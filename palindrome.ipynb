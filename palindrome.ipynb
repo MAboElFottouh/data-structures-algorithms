{
  "nbformat": 4,
  "nbformat_minor": 0,
  "metadata": {
    "colab": {
      "provenance": [],
      "authorship_tag": "ABX9TyOVtBYTmGem7owTv2RJ/D5a",
      "include_colab_link": true
    },
    "kernelspec": {
      "name": "python3",
      "display_name": "Python 3"
    },
    "language_info": {
      "name": "python"
    }
  },
  "cells": [
    {
      "cell_type": "markdown",
      "metadata": {
        "id": "view-in-github",
        "colab_type": "text"
      },
      "source": [
        "<a href=\"https://colab.research.google.com/github/MAboElFottouh/data-structures-algorithms/blob/main/palindrome.ipynb\" target=\"_parent\"><img src=\"https://colab.research.google.com/assets/colab-badge.svg\" alt=\"Open In Colab\"/></a>"
      ]
    },
    {
      "cell_type": "markdown",
      "source": [
        "# Given an integer x, return true if x is a palindrome and false otherwise."
      ],
      "metadata": {
        "id": "jq_-g3hjDWVH"
      }
    },
    {
      "cell_type": "code",
      "source": [
        "x = 121\n",
        "y = 100\n",
        "z = -121"
      ],
      "metadata": {
        "id": "H8jpwZulDh8o"
      },
      "execution_count": 1,
      "outputs": []
    },
    {
      "cell_type": "code",
      "source": [
        "def isPalindrome (x):\n",
        "  return str(x) == str(x)[::-1]"
      ],
      "metadata": {
        "id": "ez2MutyMDpqo"
      },
      "execution_count": 12,
      "outputs": []
    },
    {
      "cell_type": "code",
      "source": [
        "isPalindrome(x)"
      ],
      "metadata": {
        "colab": {
          "base_uri": "https://localhost:8080/"
        },
        "id": "6L8qreO1D9JE",
        "outputId": "01882997-5d65-43c2-c303-c7b6357a593c"
      },
      "execution_count": 13,
      "outputs": [
        {
          "output_type": "execute_result",
          "data": {
            "text/plain": [
              "True"
            ]
          },
          "metadata": {},
          "execution_count": 13
        }
      ]
    },
    {
      "cell_type": "code",
      "source": [],
      "metadata": {
        "id": "tBcSSaXOD_f2"
      },
      "execution_count": null,
      "outputs": []
    }
  ]
}